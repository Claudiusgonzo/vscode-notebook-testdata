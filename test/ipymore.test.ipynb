{
    "cells": [
        {
            "cell_type": "code",
            "execution_count": 1,
            "metadata": {},
            "outputs": [
                {
                    "data": {
                        "text/html": [
                            "<script type=\"application/vnd.jupyter.widget-state+json\">\n",
                            "{\n",
                            "    \"state\": {\n",
                            "        \"02ffabb5833d40bca3cb614fe45fe8ac\": {\n",
                            "            \"model_module\": \"@jupyter-widgets/output\",\n",
                            "            \"model_module_version\": \"1.0.0\",\n",
                            "            \"model_name\": \"OutputModel\",\n",
                            "            \"state\": {\n",
                            "                \"layout\": \"IPY_MODEL_c188ec0b21b34736ba83d0237e306207\",\n",
                            "                \"outputs\": [\n",
                            "                    {\n",
                            "                        \"data\": {\n",
                            "                            \"text/plain\": \"21\"\n",
                            "                        },\n",
                            "                        \"metadata\": {},\n",
                            "                        \"output_type\": \"display_data\"\n",
                            "                    }\n",
                            "                ]\n",
                            "            }\n",
                            "        },\n",
                            "        \"0d81f8660ec040eda631b3cfa38b938f\": {\n",
                            "            \"model_module\": \"@jupyter-widgets/controls\",\n",
                            "            \"model_module_version\": \"1.5.0\",\n",
                            "            \"model_name\": \"DescriptionStyleModel\",\n",
                            "            \"state\": {\n",
                            "                \"description_width\": \"\"\n",
                            "            }\n",
                            "        },\n",
                            "        \"0e4a25d3f9fb4b8f9c657f8a5a1f3d50\": {\n",
                            "            \"model_module\": \"@jupyter-widgets/controls\",\n",
                            "            \"model_module_version\": \"1.5.0\",\n",
                            "            \"model_name\": \"SliderStyleModel\",\n",
                            "            \"state\": {\n",
                            "                \"description_width\": \"\"\n",
                            "            }\n",
                            "        },\n",
                            "        \"160f7abc24f34071bdb6bb57cbc693b0\": {\n",
                            "            \"model_module\": \"@jupyter-widgets/controls\",\n",
                            "            \"model_module_version\": \"1.5.0\",\n",
                            "            \"model_name\": \"IntSliderModel\",\n",
                            "            \"state\": {\n",
                            "                \"description\": \"x\",\n",
                            "                \"layout\": \"IPY_MODEL_9963ac9c96394d978966af3cd194a310\",\n",
                            "                \"max\": 30,\n",
                            "                \"min\": -10,\n",
                            "                \"style\": \"IPY_MODEL_0e4a25d3f9fb4b8f9c657f8a5a1f3d50\",\n",
                            "                \"value\": 16\n",
                            "            }\n",
                            "        },\n",
                            "        \"1ebc766d35f54d23aa2604169e535f60\": {\n",
                            "            \"model_module\": \"@jupyter-widgets/base\",\n",
                            "            \"model_module_version\": \"1.2.0\",\n",
                            "            \"model_name\": \"LayoutModel\",\n",
                            "            \"state\": {}\n",
                            "        },\n",
                            "        \"23789e398d784babaa6d0967a913ba17\": {\n",
                            "            \"model_module\": \"@jupyter-widgets/base\",\n",
                            "            \"model_module_version\": \"1.2.0\",\n",
                            "            \"model_name\": \"LayoutModel\",\n",
                            "            \"state\": {}\n",
                            "        },\n",
                            "        \"26c0c61ecfa3415e88fbd84ade6f6439\": {\n",
                            "            \"model_module\": \"@jupyter-widgets/controls\",\n",
                            "            \"model_module_version\": \"1.5.0\",\n",
                            "            \"model_name\": \"CheckboxModel\",\n",
                            "            \"state\": {\n",
                            "                \"description\": \"x\",\n",
                            "                \"disabled\": false,\n",
                            "                \"layout\": \"IPY_MODEL_9338f98a7fe24041ac49467d89b9b131\",\n",
                            "                \"style\": \"IPY_MODEL_0d81f8660ec040eda631b3cfa38b938f\",\n",
                            "                \"value\": true\n",
                            "            }\n",
                            "        },\n",
                            "        \"2c2254183a104ca0982bbff2030a5c83\": {\n",
                            "            \"model_module\": \"@jupyter-widgets/controls\",\n",
                            "            \"model_module_version\": \"1.5.0\",\n",
                            "            \"model_name\": \"VBoxModel\",\n",
                            "            \"state\": {\n",
                            "                \"_dom_classes\": [\n",
                            "                    \"widget-interact\"\n",
                            "                ],\n",
                            "                \"children\": [\n",
                            "                    \"IPY_MODEL_382a49b323db40ec8bb4aec7c6225615\",\n",
                            "                    \"IPY_MODEL_b87ecab3f87748f5a7a6070814948695\",\n",
                            "                    \"IPY_MODEL_afbf62b9f0fc4c1391a070412e769d7a\"\n",
                            "                ],\n",
                            "                \"layout\": \"IPY_MODEL_1ebc766d35f54d23aa2604169e535f60\"\n",
                            "            }\n",
                            "        },\n",
                            "        \"2eb0b26830704839b2bc39064980cfb9\": {\n",
                            "            \"model_module\": \"@jupyter-widgets/controls\",\n",
                            "            \"model_module_version\": \"1.5.0\",\n",
                            "            \"model_name\": \"VBoxModel\",\n",
                            "            \"state\": {\n",
                            "                \"_dom_classes\": [\n",
                            "                    \"widget-interact\"\n",
                            "                ],\n",
                            "                \"children\": [\n",
                            "                    \"IPY_MODEL_26c0c61ecfa3415e88fbd84ade6f6439\",\n",
                            "                    \"IPY_MODEL_c907162c0f3b459da91082e2c023b9d6\"\n",
                            "                ],\n",
                            "                \"layout\": \"IPY_MODEL_d1353c2f07c241f487229b5a5bc4f721\"\n",
                            "            }\n",
                            "        },\n",
                            "        \"382a49b323db40ec8bb4aec7c6225615\": {\n",
                            "            \"model_module\": \"@jupyter-widgets/controls\",\n",
                            "            \"model_module_version\": \"1.5.0\",\n",
                            "            \"model_name\": \"CheckboxModel\",\n",
                            "            \"state\": {\n",
                            "                \"description\": \"x\",\n",
                            "                \"disabled\": false,\n",
                            "                \"layout\": \"IPY_MODEL_5507a8d4f62647428b42f5aa0f8d675d\",\n",
                            "                \"style\": \"IPY_MODEL_4ca689a3bf8c4159a6b70281a061c19d\",\n",
                            "                \"value\": true\n",
                            "            }\n",
                            "        },\n",
                            "        \"4ca689a3bf8c4159a6b70281a061c19d\": {\n",
                            "            \"model_module\": \"@jupyter-widgets/controls\",\n",
                            "            \"model_module_version\": \"1.5.0\",\n",
                            "            \"model_name\": \"DescriptionStyleModel\",\n",
                            "            \"state\": {\n",
                            "                \"description_width\": \"\"\n",
                            "            }\n",
                            "        },\n",
                            "        \"5507a8d4f62647428b42f5aa0f8d675d\": {\n",
                            "            \"model_module\": \"@jupyter-widgets/base\",\n",
                            "            \"model_module_version\": \"1.2.0\",\n",
                            "            \"model_name\": \"LayoutModel\",\n",
                            "            \"state\": {}\n",
                            "        },\n",
                            "        \"629dce498d76472fbcc0d20e35243e32\": {\n",
                            "            \"model_module\": \"@jupyter-widgets/base\",\n",
                            "            \"model_module_version\": \"1.2.0\",\n",
                            "            \"model_name\": \"LayoutModel\",\n",
                            "            \"state\": {}\n",
                            "        },\n",
                            "        \"9338f98a7fe24041ac49467d89b9b131\": {\n",
                            "            \"model_module\": \"@jupyter-widgets/base\",\n",
                            "            \"model_module_version\": \"1.2.0\",\n",
                            "            \"model_name\": \"LayoutModel\",\n",
                            "            \"state\": {}\n",
                            "        },\n",
                            "        \"94b2834282ff468c871d1d86e16cc436\": {\n",
                            "            \"model_module\": \"@jupyter-widgets/base\",\n",
                            "            \"model_module_version\": \"1.2.0\",\n",
                            "            \"model_name\": \"LayoutModel\",\n",
                            "            \"state\": {}\n",
                            "        },\n",
                            "        \"9963ac9c96394d978966af3cd194a310\": {\n",
                            "            \"model_module\": \"@jupyter-widgets/base\",\n",
                            "            \"model_module_version\": \"1.2.0\",\n",
                            "            \"model_name\": \"LayoutModel\",\n",
                            "            \"state\": {}\n",
                            "        },\n",
                            "        \"a56ad1e9537a4880860f32333b5f463b\": {\n",
                            "            \"model_module\": \"@jupyter-widgets/controls\",\n",
                            "            \"model_module_version\": \"1.5.0\",\n",
                            "            \"model_name\": \"SliderStyleModel\",\n",
                            "            \"state\": {\n",
                            "                \"description_width\": \"\"\n",
                            "            }\n",
                            "        },\n",
                            "        \"afbf62b9f0fc4c1391a070412e769d7a\": {\n",
                            "            \"model_module\": \"@jupyter-widgets/output\",\n",
                            "            \"model_module_version\": \"1.0.0\",\n",
                            "            \"model_name\": \"OutputModel\",\n",
                            "            \"state\": {\n",
                            "                \"layout\": \"IPY_MODEL_23789e398d784babaa6d0967a913ba17\",\n",
                            "                \"outputs\": [\n",
                            "                    {\n",
                            "                        \"data\": {\n",
                            "                            \"text/plain\": \"(True, 1.0)\"\n",
                            "                        },\n",
                            "                        \"metadata\": {},\n",
                            "                        \"output_type\": \"display_data\"\n",
                            "                    }\n",
                            "                ]\n",
                            "            }\n",
                            "        },\n",
                            "        \"b87ecab3f87748f5a7a6070814948695\": {\n",
                            "            \"model_module\": \"@jupyter-widgets/controls\",\n",
                            "            \"model_module_version\": \"1.5.0\",\n",
                            "            \"model_name\": \"FloatSliderModel\",\n",
                            "            \"state\": {\n",
                            "                \"description\": \"y\",\n",
                            "                \"layout\": \"IPY_MODEL_94b2834282ff468c871d1d86e16cc436\",\n",
                            "                \"max\": 3,\n",
                            "                \"min\": -1,\n",
                            "                \"step\": 0.1,\n",
                            "                \"style\": \"IPY_MODEL_a56ad1e9537a4880860f32333b5f463b\",\n",
                            "                \"value\": 1\n",
                            "            }\n",
                            "        },\n",
                            "        \"c188ec0b21b34736ba83d0237e306207\": {\n",
                            "            \"model_module\": \"@jupyter-widgets/base\",\n",
                            "            \"model_module_version\": \"1.2.0\",\n",
                            "            \"model_name\": \"LayoutModel\",\n",
                            "            \"state\": {}\n",
                            "        },\n",
                            "        \"c907162c0f3b459da91082e2c023b9d6\": {\n",
                            "            \"model_module\": \"@jupyter-widgets/output\",\n",
                            "            \"model_module_version\": \"1.0.0\",\n",
                            "            \"model_name\": \"OutputModel\",\n",
                            "            \"state\": {\n",
                            "                \"layout\": \"IPY_MODEL_e2c3adbdc2cc40d9b7e544e334f5df5e\",\n",
                            "                \"outputs\": [\n",
                            "                    {\n",
                            "                        \"data\": {\n",
                            "                            \"text/plain\": \"6\"\n",
                            "                        },\n",
                            "                        \"metadata\": {},\n",
                            "                        \"output_type\": \"display_data\"\n",
                            "                    }\n",
                            "                ]\n",
                            "            }\n",
                            "        },\n",
                            "        \"d1353c2f07c241f487229b5a5bc4f721\": {\n",
                            "            \"model_module\": \"@jupyter-widgets/base\",\n",
                            "            \"model_module_version\": \"1.2.0\",\n",
                            "            \"model_name\": \"LayoutModel\",\n",
                            "            \"state\": {}\n",
                            "        },\n",
                            "        \"d81bb24987974877a497a521fe86de8f\": {\n",
                            "            \"model_module\": \"@jupyter-widgets/controls\",\n",
                            "            \"model_module_version\": \"1.5.0\",\n",
                            "            \"model_name\": \"VBoxModel\",\n",
                            "            \"state\": {\n",
                            "                \"_dom_classes\": [\n",
                            "                    \"widget-interact\"\n",
                            "                ],\n",
                            "                \"children\": [\n",
                            "                    \"IPY_MODEL_160f7abc24f34071bdb6bb57cbc693b0\",\n",
                            "                    \"IPY_MODEL_02ffabb5833d40bca3cb614fe45fe8ac\"\n",
                            "                ],\n",
                            "                \"layout\": \"IPY_MODEL_629dce498d76472fbcc0d20e35243e32\"\n",
                            "            }\n",
                            "        },\n",
                            "        \"e2c3adbdc2cc40d9b7e544e334f5df5e\": {\n",
                            "            \"model_module\": \"@jupyter-widgets/base\",\n",
                            "            \"model_module_version\": \"1.2.0\",\n",
                            "            \"model_name\": \"LayoutModel\",\n",
                            "            \"state\": {}\n",
                            "        }\n",
                            "    },\n",
                            "    \"version_major\": 2,\n",
                            "    \"version_minor\": 0\n",
                            "}\n",
                            "</script>\n"
                        ],
                        "text/plain": [
                            "<IPython.core.display.HTML object>"
                        ]
                    },
                    "metadata": {},
                    "output_type": "display_data"
                }
            ],
            "source": [
                "from ipywidgets import VBox, jsdlink, IntSlider, Button\n"
            ]
        },
        {
            "cell_type": "code",
            "execution_count": 4,
            "metadata": {},
            "outputs": [],
            "source": [
                "from __future__ import print_function\n",
                "from ipywidgets import interact, interactive, fixed, interact_manual\n",
                "import ipywidgets as widgets"
            ]
        },
        {
            "cell_type": "code",
            "execution_count": 5,
            "metadata": {},
            "outputs": [],
            "source": [
                "def f(x):\n",
                "    return x"
            ]
        },
        {
            "cell_type": "code",
            "execution_count": 6,
            "metadata": {},
            "outputs": [
                {
                    "data": {
                        "application/vnd.jupyter.widget-view+json": {
                            "model_id": "cb7ae30a732f4726853860f9ab79b5df",
                            "version_major": 2,
                            "version_minor": 0
                        },
                        "text/plain": [
                            "interactive(children=(IntSlider(value=10, description='x', max=30, min=-10), Output()), _dom_classes=('widget-…"
                        ]
                    },
                    "metadata": {},
                    "output_type": "display_data"
                }
            ],
            "source": [
                "interact(f, x=10);"
            ]
        },
        {
            "cell_type": "code",
            "execution_count": 7,
            "metadata": {},
            "outputs": [
                {
                    "data": {
                        "application/vnd.jupyter.widget-view+json": {
                            "model_id": "82a730cfbd42412cb46e5de17888a8b4",
                            "version_major": 2,
                            "version_minor": 0
                        },
                        "text/plain": [
                            "interactive(children=(Checkbox(value=True, description='x'), Output()), _dom_classes=('widget-interact',))"
                        ]
                    },
                    "metadata": {},
                    "output_type": "display_data"
                }
            ],
            "source": [
                "interact(f, x=True);\n"
            ]
        },
        {
            "cell_type": "code",
            "execution_count": 8,
            "metadata": {},
            "outputs": [
                {
                    "data": {
                        "application/vnd.jupyter.widget-view+json": {
                            "model_id": "2a0dcbabe6b743de8cb673570f6ad1b6",
                            "version_major": 2,
                            "version_minor": 0
                        },
                        "text/plain": [
                            "interactive(children=(Text(value='Hi there!', description='x'), Output()), _dom_classes=('widget-interact',))"
                        ]
                    },
                    "metadata": {},
                    "output_type": "display_data"
                }
            ],
            "source": [
                "interact(f, x='Hi there!');"
            ]
        },
        {
            "cell_type": "code",
            "execution_count": 9,
            "metadata": {},
            "outputs": [],
            "source": [
                "def h(p, q):\n",
                "    return (p, q)"
            ]
        },
        {
            "cell_type": "code",
            "execution_count": 10,
            "metadata": {},
            "outputs": [
                {
                    "data": {
                        "application/vnd.jupyter.widget-view+json": {
                            "model_id": "93beb0be3cd34509bcbfac747114c9e0",
                            "version_major": 2,
                            "version_minor": 0
                        },
                        "text/plain": [
                            "interactive(children=(IntSlider(value=5, description='p', max=15, min=-5), Output()), _dom_classes=('widget-in…"
                        ]
                    },
                    "metadata": {},
                    "output_type": "display_data"
                }
            ],
            "source": [
                "interact(h, p=5, q=fixed(20));"
            ]
        },
        {
            "cell_type": "code",
            "execution_count": 11,
            "metadata": {},
            "outputs": [
                {
                    "data": {
                        "application/vnd.jupyter.widget-view+json": {
                            "model_id": "eea243bc323e4c51842a7d429a2e3219",
                            "version_major": 2,
                            "version_minor": 0
                        },
                        "text/plain": [
                            "interactive(children=(IntSlider(value=10, description='x', max=30, min=-10), Output()), _dom_classes=('widget-…"
                        ]
                    },
                    "metadata": {},
                    "output_type": "display_data"
                }
            ],
            "source": [
                "interact(f, x=widgets.IntSlider(min=-10, max=30, step=1, value=10));"
            ]
        },
        {
            "cell_type": "code",
            "execution_count": 12,
            "metadata": {},
            "outputs": [
                {
                    "data": {
                        "application/vnd.jupyter.widget-view+json": {
                            "model_id": "469f6e33c2914993a979809aafec28bd",
                            "version_major": 2,
                            "version_minor": 0
                        },
                        "text/plain": [
                            "interactive(children=(IntSlider(value=4, description='x', max=8, step=2), Output()), _dom_classes=('widget-int…"
                        ]
                    },
                    "metadata": {},
                    "output_type": "display_data"
                }
            ],
            "source": [
                "interact(f, x=(0,8,2));"
            ]
        },
        {
            "cell_type": "code",
            "execution_count": 13,
            "metadata": {},
            "outputs": [],
            "source": [
                "from IPython.display import display\n",
                "def f(a, b):\n",
                "    display(a + b)\n",
                "    return a+b\n"
            ]
        },
        {
            "cell_type": "code",
            "execution_count": 14,
            "metadata": {},
            "outputs": [],
            "source": [
                "w = interactive(f, a=10, b=20)"
            ]
        },
        {
            "cell_type": "code",
            "execution_count": 16,
            "metadata": {},
            "outputs": [
                {
                    "data": {
                        "application/vnd.jupyter.widget-view+json": {
                            "model_id": "52821e01d32c481daf42c63c87023f48",
                            "version_major": 2,
                            "version_minor": 0
                        },
                        "text/plain": [
                            "interactive(children=(IntSlider(value=10, description='a', max=30, min=-10), IntSlider(value=20, description='…"
                        ]
                    },
                    "metadata": {},
                    "output_type": "display_data"
                }
            ],
            "source": [
                "display(w)"
            ]
        },
        {
            "cell_type": "code",
            "execution_count": 19,
            "metadata": {},
            "outputs": [
                {
                    "data": {
                        "application/vnd.jupyter.widget-view+json": {
                            "model_id": "2fc4fc04dd8a42b2aaa9c925c4018687",
                            "version_major": 2,
                            "version_minor": 0
                        },
                        "text/plain": [
                            "interactive(children=(FloatSlider(value=0.0, description='x', max=10.0, step=0.05), FloatSlider(value=5.0, des…"
                        ]
                    },
                    "metadata": {},
                    "output_type": "display_data"
                }
            ],
            "source": [
                "from ipywidgets import FloatSlider\n",
                "x_widget = FloatSlider(min=0.0, max=10.0, step=0.05)\n",
                "y_widget = FloatSlider(min=0.5, max=10.0, step=0.05, value=5.0)\n",
                "\n",
                "def update_x_range(*args):\n",
                "    x_widget.max = 2.0 * y_widget.value\n",
                "y_widget.observe(update_x_range, 'value')\n",
                "\n",
                "def printer(x, y):\n",
                "    print(x, y)\n",
                "interact(printer,x=x_widget, y=y_widget);"
            ]
        },
        {
            "cell_type": "code",
            "execution_count": null,
            "metadata": {},
            "outputs": [],
            "source": []
        }
    ],
    "metadata": {
        "kernelspec": {
            "name": "python3",
            "display_name": "Python 3"
        },
        "language_info": {
            "name": "python",
            "version": "3.7.3",
            "mimetype": "text/x-python",
            "codemirror_mode": {
                "name": "ipython",
                "version": 3
            },
            "pygments_lexer": "ipython3",
            "nbconvert_exporter": "python",
            "file_extension": ".py"
        },
        "nteract": {
            "version": "0.15.0"
        }
    },
    "nbformat": 4,
    "nbformat_minor": 2
}