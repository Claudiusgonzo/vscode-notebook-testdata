{
    "cells": [
        {
            "source": [
                "A list of features for a Notebook **client**.\n",
                "\n",
                "## Top-level structure\n",
                "\n",
                "- Rendering\n",
                "- Editor features\n",
                "- Cell manipulation \n",
                "- Keybindings/Commands\n",
                "- Language features\n",
                "\n",
                "\n",
                "\n",
                "\n",
                "\n",
                "\n",
                "\n",
                "\n"
            ],
            "metadata": {
                "language_info": {
                    "name": "python"
                }
            },
            "cell_type": "markdown"
        },
        {
            "source": [
                "Annotations\n",
                "\n",
                "| Mark | Description | \n",
                "| --- | --- |\n",
                "| 🏃 | work in progress |\n",
                "| ✔️ | supported |\n",
                "\n",
                "\n",
                "\n",
                "\n",
                "\n",
                "\n",
                "\n",
                "\n",
                "\n",
                "\n",
                "\n"
            ],
            "metadata": {
                "language_info": {
                    "name": "python"
                }
            },
            "cell_type": "markdown"
        },
        {
            "source": [
                "## Rendering\n",
                "\n",
                "A notebook consists of an ordered list of cells. Each cell can be markdown content or source code with executed outputs. Currently we use `marked.js` to render markdown content and a full size monaco editor for source code.\n",
                "\n",
                "\n"
            ],
            "metadata": {
                "language_info": {
                    "name": "python"
                }
            },
            "cell_type": "markdown"
        },
        {
            "source": [
                "### Cell\n",
                "\n",
                "| Cell type | |  Notebook (exploration) | Notes | \n",
                "| ------------- | :---------: | ----- | ------------- |\n",
                "| Code | | | |\n",
                "| | Render editor with language | ✔️ |  |\n",
                "| | Editor height grow with content | | Note: make sure word wrapping works properly. |\n",
                "| | View output in seperate view | | For example view output in fullscreen |\n",
                "| Markdown  | | | |\n",
                "| | Live Preview | ✔️ | |\n",
                "| | Side by side rendering |  | Google Colab did so |\n",
                "| | Commonmark  | ✔️ | |\n",
                "| | GFM  | ✔️ | |\n",
                "| | LaTeX equations  |  | |\n",
                "| | HTML  | | Requires sanitization. |\n",
                "| | Video | | VS Code doesn't ship with ffmpeg |\n",
                "| | Attachments | | Used in Markdown |\n",
                "\n",
                "\n",
                "\n"
            ],
            "metadata": {
                "language_info": {
                    "name": "python"
                }
            },
            "cell_type": "markdown"
        },
        {
            "source": [
                "### Output \n",
                "\n",
                "Refs:\n",
                "\n",
                "* [jupyterlab](https://jupyterlab.readthedocs.io/en/stable/user/file_formats.html)\n",
                "* [ipython](https://ipython.readthedocs.io/en/stable/api/generated/IPython.core.formatters.html?highlight=text%2Flatex#IPython.core.formatters.DisplayFormatter)\n",
                "\n",
                "The following MIME types are usually implemented by Notebook client.\n",
                "\n",
                "| Output type | MIME type |  Notebook (exploration) | Notes | \n",
                "| :---------: | :--------- | :---------: | :--------- |\n",
                "| stream |  |  | |\n",
                "|  | text | ✔️ | |\n",
                "| error | | | |\n",
                "| | ansi | ✔️ | |\n",
                "| display_data |  |  | |\n",
                "|  | text/plain | ✔️ | |\n",
                "|  | text/markdown | | |\n",
                "|  | text/latex |  | | \n",
                "|  | text/html | ✔️ | | \n",
                "|  | image/png | ✔️ | | \n",
                "|  | image/jpeg | ✔️ | | \n",
                "|  | image/svg |  | | \n",
                "|  | image/bmp |  | | \n",
                "|  | image/gif |  | | \n",
                "|  | image/svg+xml |  | | \n",
                "|  | video | | VS Code doesn't ship with ffmpeg |\n",
                "|  | application/javascript |  | | \n",
                "|  | application/json |  | | \n",
                "|  | application/pdf |  | | \n",
                "|  | Interactive JavaScript wigets  | ✔️ | Contributed by extensions, like ipywidget or vega/vega-lite |\n",
                "|  | **Custom Mime Types** (`application/vnd*`) |  | Requires API or extensibility for contributing custom vender mime |  types handlers |\n",
                "\n",
                "A notebook output might have mutiple mimetypes and a notebook client will choose the richest mime type it can render. A display order for mime types can be as below\n",
                "\n",
                "* application/json\n",
                "* application/javascript\n",
                "* text/html\n",
                "* image/svg+xml\n",
                "* text/markdown\n",
                "* text/latex\n",
                "* image/svg+xml\n",
                "* image/gif\n",
                "* image/png\n",
                "* image/jpeg\n",
                "* application/pdf\n",
                "* text/plain\n",
                "\n",
                "Internally a notebook client should maintain two lists, one for mime types it can render and one for the display order.\n",
                "\n",
                "\n",
                "\n",
                "\n",
                "\n"
            ],
            "metadata": {
                "language_info": {
                    "name": "python"
                }
            },
            "cell_type": "markdown"
        },
        {
            "source": [
                "### Cell metadata\n",
                "\n",
                "Cell metadata is used to control the rendering of a cell, for example we can disable editing of markdown cells by setting `editable` to `false`.\n",
                "\n",
                "Refs: [nbformat](https://nbformat.readthedocs.io/en/latest/format_description.html#cell-metadata)\n",
                "\n",
                "|               |  Notebook (exploration) | Notes | \n",
                "| ------------- | -----:| ------------- |\n",
                "| editable |  | |\n",
                "| scrolled  |  | |\n",
                "| collapsed  |  | |\n",
                "| deletable  |  | |\n",
                "| name  |  | |\n",
                "| execution  |  | |\n",
                "| tags |  | |\n",
                "| format |  | |\n",
                "\n",
                "### Output metadata\n",
                "\n",
                "Output metadata can provide information of how to render an output.\n",
                "\n",
                "Refs: [nbformat](https://nbformat.readthedocs.io/en/latest/format_description.html#output-metadata)\n",
                "\n",
                "|               |  Notebook (exploration) | Notes | \n",
                "| ------------- | -----:| ------------- |\n",
                "| isolated |  | isolated outpuyt should be isolated into an iframe |\n",
                "| dimensions |  | `\"metadata\" : { \"image/png\": { \"width\": 640, \"height\": 480, } }` | \n",
                "| needs_background | | light/dark |\n",
                "\n",
                "\n"
            ],
            "metadata": {
                "language_info": {
                    "name": "python"
                }
            },
            "cell_type": "markdown"
        },
        {
            "source": [
                "\n",
                "## Editor Features\n",
                "\n",
                "Ideally users can get similar experience with Notebook Editor as a normal Monaco editor.\n",
                "\n",
                "|               |  Jupyter  | Notebook (exploration) | Notes | \n",
                "| ------------- |:-------------:| -----: |:-------------:|\n",
                "| Find & Replace in File  | ✔️ | |  |\n",
                "| Find & Replace in Cell  | ✔️ | |  |\n",
                "| Multi Cursor  |  | |  |\n",
                "| Minimap  |  |  | |\n",
                "| Auto Save | ✔️ | | |\n",
                "| Hot Exit |  | | |\n",
                "| Save As | ✔️ | | |\n",
                "| Snippets |  | | |\n",
                "| Diff | ✔️ | | Rich diff is supported by NBViewer |\n",
                "| Undo/Redo (across cells) | | | |\n",
                "| Cursor Movement (across cells) | ✔️ | | |\n",
                "| Line Numbers | ✔️ |  | This can be done by langauge/file specific settings |\n",
                "\n",
                "\n",
                "\n",
                "\n",
                "\n",
                "\n",
                "\n",
                "\n",
                "\n"
            ],
            "metadata": {
                "language_info": {
                    "name": "python"
                }
            },
            "cell_type": "markdown"
        },
        {
            "source": [
                "## Cell Manipulation\n",
                "\n",
                "Currently we put all cell related actions in the context menu but it's not easily accessibable, we may want to have a better UX to ensure users can be **productive**.\n",
                "\n",
                "Refs: [jupyterlab api for cell management](https://jupyterlab.readthedocs.io/en/stable/developer/notebook.html)\n",
                "\n",
                "|               |  Jupyter   | Notebook (exploration) | Notes | \n",
                "| ------------- |:-------------:| :---------: |:-------------:|\n",
                "| Top level toolbar  | ✔️ |  | |\n",
                "| Create new markdown cell  | ✔️ | ✔️ | |\n",
                "| Create new code cell  | ✔️ | 🏃 | we need to implement langauge picker |\n",
                "| Move cell  | ✔️ |  |  |\n",
                "| Delete cell  | ✔️ | 🏃 |  |\n",
                "| Drag and Drop |  | | Supported in JupyterLab |\n",
                "| Expand/Collapse outputs |  | | |\n",
                "| Undo/Redo cell manipulation | ✔️ | | |\n",
                "| Execute code cell | ✔️ | ✔️ | |\n",
                "| Mutiple cell selection | ✔️ |  | |\n",
                "| Clear output | ✔️ | | |\n",
                "\n",
                "\n",
                "\n",
                "\n",
                "\n",
                "\n",
                "\n",
                "\n",
                "\n",
                "\n",
                "\n"
            ],
            "metadata": {
                "language_info": {
                    "name": "python"
                }
            },
            "cell_type": "markdown"
        },
        {
            "source": [
                "## Keybindings\n",
                "\n",
                "\n",
                "\n",
                "\n",
                "\n",
                "\n",
                "\n",
                "\n",
                "\n",
                "\n",
                "\n"
            ],
            "metadata": {
                "language_info": {
                    "name": "python"
                }
            },
            "cell_type": "markdown"
        },
        {
            "source": [
                "### Command Mode\n",
                "\n",
                "Command Mode (press Esc to enable)\n",
                "\n",
                "| Shortcut | Command | Notebook (exploration) |\n",
                "| --- | --- | --- |\n",
                "| F | find and replace | |\n",
                "| ↩ | enter edit mode | |\n",
                "| ⌘⇧F | open the command palette | |\n",
                "| ⌘⇧P | open the command palette | |\n",
                "| P | open the command palette | |\n",
                "| ⇧↩ | run cell, select below | |\n",
                "| ⌃↩ | run selected cells | |\n",
                "| ⌥↩ | run cell and insert below | |\n",
                "| Y | change cell to code | |\n",
                "| M | change cell to markdown | |\n",
                "| R | change cell to raw | |\n",
                "| 1 | change cell to heading 1 | |\n",
                "| 2 | change cell to heading 2 | |\n",
                "| 3 | change cell to heading 3 | |\n",
                "| 4 | change cell to heading 4 | |\n",
                "| 5 | change cell to heading 5 | |\n",
                "| 6 | change cell to heading 6 | |\n",
                "| K | select cell above | |\n",
                "| ↑ | select cell above | |\n",
                "| ↓ | select cell below | |\n",
                "| J | select cell below | |\n",
                "| ⇧K | extend selected cells above | |\n",
                "| ⇧↑ | extend selected cells above | |\n",
                "| ⇧↓ | extend selected cells below | |\n",
                "| ⇧J | extend selected cells below | |\n",
                "| A | insert cell above | |\n",
                "| B | insert cell below | |\n",
                "| X | cut selected cells | |\n",
                "| C | copy selected cells | |\n",
                "| ⇧V | paste cells above | |\n",
                "| V | paste cells below | |\n",
                "| Z | undo cell deletion | |\n",
                "| D,D | delete selected cells | |\n",
                "| ⇧M | merge selected cells, or current cell with cell below if only one cell is selected | |\n",
                "| ⌘S | Save and Checkpoint | |\n",
                "| S | Save and Checkpoint | |\n",
                "| L | toggle line numbers | |\n",
                "| O | toggle output of selected cells | |\n",
                "| ⇧O | toggle output scrolling of selected cells | |\n",
                "| H | show keyboard shortcuts | |\n",
                "| I,I | interrupt the kernel | |\n",
                "| 0,0 | restart the kernel (with dialog) | |\n",
                "| Esc | close the pager | |\n",
                "| Q | close the pager | |\n",
                "| ⇧L | toggles line numbers in all cells, and persist the setting | |\n",
                "| ⇧␣ | scroll notebook up | |\n",
                "| ␣ | scroll notebook down | |\n",
                "\n",
                "\n",
                "\n",
                "\n",
                "\n",
                "\n",
                "\n",
                "\n",
                "\n",
                "\n",
                "\n"
            ],
            "metadata": {
                "language_info": {
                    "name": "python"
                }
            },
            "cell_type": "markdown"
        },
        {
            "source": [
                "### Edit Mode\n",
                "\n",
                "Edit Mode (press Enter to enable)\n",
                "\n",
                "| Shortcut | Command | Notebook (exploration) |\n",
                "| --- | --- | --- |\n",
                "| ⇥ | code completion or indent | |\n",
                "| ⇧⇥ | tooltip | |\n",
                "| ⌘] | indent | |\n",
                "| ⌘[ | dedent | |\n",
                "| ⌘A | select all | |\n",
                "| ⌘Z | undo | |\n",
                "| ⌘/ | comment | |\n",
                "| ⌘D | delete whole line | |\n",
                "| ⌘U | undo selection | |\n",
                "| Insert | toggle overwrite flag | |\n",
                "| ⌘↑ | go to cell start | |\n",
                "| ⌘↓ | go to cell end | |\n",
                "| ⌥← | go one word left | |\n",
                "| ⌥→ | go one word right | |\n",
                "| ⌥⌫ | delete word before | |\n",
                "| ⌥⌦ | delete word after | |\n",
                "| ⌘⇧Z | redo | |\n",
                "| ⌘⇧U | redo selection | |\n",
                "| ⌃K | emacs-style line kill | |\n",
                "| ⌘⌫ | delete line left of cursor | |\n",
                "| ⌘⌦ | delete line right of cursor | |\n",
                "| ⌃M | enter command mode | |\n",
                "| Esc | enter command mode | |\n",
                "| ⌘⇧F | open the command palette | |\n",
                "| ⌘⇧P | open the command palette | |\n",
                "| ⇧↩ | run cell, select below | |\n",
                "| ⌃↩ | run selected cells | |\n",
                "| ⌥↩ | run cell and insert below | |\n",
                "| ⌃⇧Minus | split cell at cursor | |\n",
                "| ⌘S | Save and Checkpoint | |\n",
                "| ↓ | move cursor down | |\n",
                "| ↑ | move cursor up | |\n",
                "\n",
                "\n",
                "\n",
                "\n",
                "\n",
                "\n",
                "\n",
                "\n",
                "\n",
                "\n",
                "\n"
            ],
            "metadata": {
                "language_info": {
                    "name": "python"
                }
            },
            "cell_type": "markdown"
        },
        {
            "source": [
                "## Language Features\n",
                "\n",
                "|               |  Jupyter  | Notebook (exploration) | Notes | \n",
                "| ------------- |:-------------:| -----:| ------------- |\n",
                "| Rename  |  | |  |\n",
                "| Refactor  |  | |  |\n",
                "| Diagnostics  |  | |  |\n",
                "| Completion  |  | |  |\n",
                "| Go to Definition/Implmenation  |  | |  |\n",
                "| Codelens  |  | |  |\n",
                "| Hover  |  | |  |\n",
                "| Symbol  |  | |  |\n",
                "| References  |  | |  |\n",
                "| Formatters  |  | |  |\n",
                "| Link  |  | |  |\n",
                "| Color  |  | |  |\n",
                "| Folding  |  | |  |\n",
                "| Call hierarchy  |  | |  |\n",
                "| Breadcrumbs |  | | |\n",
                "| Peek View |  | | |\n",
                "\n",
                "---\n",
                "\n",
                "\n",
                "Refs:\n",
                "\n",
                "* [Google Colaboratory](https://colab.research.google.com/notebooks/intro.ipynb#recent=true)\n",
                "\n",
                "\n",
                "\n",
                "\n",
                "\n",
                "\n",
                "\n",
                "\n",
                "\n",
                "\n",
                "\n"
            ],
            "metadata": {
                "language_info": {
                    "name": "python"
                }
            },
            "cell_type": "markdown"
        }
    ],
    "metadata": {
        "pygments_lexer": "ipython3",
        "name": "python",
        "mimetype": "text/x-python",
        "npconvert_exporter": "python",
        "language_info": {
            "codemirror_mode": {
                "name": "ipython",
                "version": 3
            },
            "file_extension": ".py",
            "mimetype": "text/x-python",
            "name": "python",
            "nbconvert_exporter": "python",
            "pygments_lexer": "ipython3",
            "version": "3.7.3"
        },
        "version": 3,
        "kernelspec": {
            "display_name": "Python 3",
            "language": "python",
            "name": "python3"
        },
        "file_extension": ".py",
        "nteract": {
            "version": "0.15.0"
        }
    },
    "nbformat": 4,
    "nbformat_minor": 2
}